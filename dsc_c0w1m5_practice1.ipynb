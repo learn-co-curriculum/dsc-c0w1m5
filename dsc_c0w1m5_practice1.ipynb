{
  "nbformat": 4,
  "nbformat_minor": 0,
  "metadata": {
    "colab": {
      "provenance": []
    },
    "kernelspec": {
      "name": "python3",
      "display_name": "Python 3"
    },
    "language_info": {
      "name": "python"
    }
  },
  "cells": [
    {
      "cell_type": "markdown",
      "source": [
        "# Practice for Pandas Dataframes & Series"
      ],
      "metadata": {
        "id": "pqiPVWLefOGc"
      }
    },
    {
      "cell_type": "markdown",
      "source": [
        "1. Load the file `WorldCupMatches.csv` as a DataFrame in pandas."
      ],
      "metadata": {
        "id": "hfSf9XkdlHXQ"
      }
    },
    {
      "cell_type": "code",
      "execution_count": null,
      "metadata": {
        "id": "gXuDlCR0fKdK"
      },
      "outputs": [],
      "source": [
        "# Import pandas using the standard alias\n",
        "\n",
        "\n",
        "# Load 'WorldCupMatches.csv' as a DataFrame\n"
      ]
    },
    {
      "cell_type": "markdown",
      "source": [
        "2. Use the correct method to display the first 7 rows of the dataset."
      ],
      "metadata": {
        "id": "9l1NB0LFnr4l"
      }
    },
    {
      "cell_type": "markdown",
      "source": [
        "# Display the first 7 rows of df\n"
      ],
      "metadata": {
        "id": "EbtDuwDknxdI"
      }
    },
    {
      "cell_type": "markdown",
      "source": [
        "3. Display the last 3 rows of the dataset."
      ],
      "metadata": {
        "id": "NUXrqC70n2Du"
      }
    },
    {
      "cell_type": "code",
      "source": [
        "# Display the last 3 rows of df"
      ],
      "metadata": {
        "id": "tE3xn_43n48K"
      },
      "execution_count": null,
      "outputs": []
    },
    {
      "cell_type": "markdown",
      "source": [
        "4. Get a concise summary of the data using `.info()`."
      ],
      "metadata": {
        "id": "lNTzNMTBn60T"
      }
    },
    {
      "cell_type": "code",
      "source": [
        "# Print a concise summary of df"
      ],
      "metadata": {
        "id": "WNjqm2BDoDwo"
      },
      "execution_count": null,
      "outputs": []
    },
    {
      "cell_type": "markdown",
      "source": [
        "5. Obtain a tuple representing the number of rows and number of columns."
      ],
      "metadata": {
        "id": "m4yILc-NoFyX"
      }
    },
    {
      "cell_type": "code",
      "source": [
        "# Display the number of rows and columns in df"
      ],
      "metadata": {
        "id": "28qxK4yZoH1f"
      },
      "execution_count": null,
      "outputs": []
    },
    {
      "cell_type": "markdown",
      "source": [
        "6. Use the appropriate attribute to get the column names."
      ],
      "metadata": {
        "id": "2XrVzqWwoJpO"
      }
    },
    {
      "cell_type": "code",
      "source": [
        "# Display the column names of df"
      ],
      "metadata": {
        "id": "CeaGdg5moNEe"
      },
      "execution_count": null,
      "outputs": []
    },
    {
      "cell_type": "markdown",
      "source": [
        "7. When looking at the DataFrame's `.head()` and `.tail()`, you might have noticed that the games are structured chronologically in the DataFrame.\n",
        "Use the right selection method to display all the information from the 3rd to the 5th game (i.e. select rows 3 through 5 inclusive)."
      ],
      "metadata": {
        "id": "3y_v-jqZoPE7"
      }
    },
    {
      "cell_type": "code",
      "source": [
        "# Your code here"
      ],
      "metadata": {
        "id": "MTnATwUZoW-H"
      },
      "execution_count": null,
      "outputs": []
    },
    {
      "cell_type": "markdown",
      "source": [
        "8. Now, display the info from games labeled 5-9 in the index (inclusive), but only the \"Home Team Name\" and the \"Away Team Name\" columns."
      ],
      "metadata": {
        "id": "fRGq1zihocdb"
      }
    },
    {
      "cell_type": "code",
      "source": [
        "# Your code here"
      ],
      "metadata": {
        "id": "TxZr95swogjT"
      },
      "execution_count": null,
      "outputs": []
    },
    {
      "cell_type": "markdown",
      "source": [
        "9. Next, we'd like the information on all the games played in Group 3 for the 1950 World Cup.\n",
        "Hint: You can combine conditions like this:\n",
        "- df[(condition1) | (condition2)] -> Returns rows where either condition is true\n",
        "- df[(condition1) & (condition2)] -> Returns rows where both conditions are true"
      ],
      "metadata": {
        "id": "5jzMXRVSog3A"
      }
    },
    {
      "cell_type": "code",
      "source": [
        "# Display all info for games played in 1950 for Group 3"
      ],
      "metadata": {
        "id": "8seX5ah1onjl"
      },
      "execution_count": null,
      "outputs": []
    },
    {
      "cell_type": "markdown",
      "source": [
        "10. Let's repeat the command above, but this time display only the attendance column for the Group 3 games."
      ],
      "metadata": {
        "id": "-B0dPLhVooDv"
      }
    },
    {
      "cell_type": "code",
      "source": [
        "# Your code here"
      ],
      "metadata": {
        "id": "B_iCipPwoqRC"
      },
      "execution_count": null,
      "outputs": []
    },
    {
      "cell_type": "markdown",
      "source": [
        "11. Throughout the entire history of the World Cup as recorded in this dataset, how many home games were played by the Netherlands?\n",
        "(Remember that you can use the `len()` built-in function to find the number of rows in a DataFrame.)"
      ],
      "metadata": {
        "id": "7UnRp_jdosUX"
      }
    },
    {
      "cell_type": "code",
      "source": [
        "# Your code here"
      ],
      "metadata": {
        "id": "FOyLef_ZowCt"
      },
      "execution_count": null,
      "outputs": []
    },
    {
      "cell_type": "markdown",
      "source": [
        "12. How many games were played by the Netherlands in total?"
      ],
      "metadata": {
        "id": "WFC68OM-ownr"
      }
    },
    {
      "cell_type": "code",
      "source": [
        "# Your code here"
      ],
      "metadata": {
        "id": "AeU4NxkHoy8i"
      },
      "execution_count": null,
      "outputs": []
    },
    {
      "cell_type": "markdown",
      "source": [
        "13. Next, let's try and figure out how many games the USA played in the 2014 World Cup."
      ],
      "metadata": {
        "id": "KJa7njAXo0QU"
      }
    },
    {
      "cell_type": "code",
      "source": [
        "# Your code here"
      ],
      "metadata": {
        "id": "pygSGnIao28k"
      },
      "execution_count": null,
      "outputs": []
    },
    {
      "cell_type": "markdown",
      "source": [
        "14. The Match ID is a unique match identifer for international games:\n",
        "- set this to the index and inspect the head to verify changes.\n"
      ],
      "metadata": {
        "id": "M2xnusrDo4UL"
      }
    },
    {
      "cell_type": "code",
      "source": [
        "# Your code here\n"
      ],
      "metadata": {
        "id": "Kplq3H8Lo9BD"
      },
      "execution_count": null,
      "outputs": []
    },
    {
      "cell_type": "markdown",
      "source": [
        "15. Select data from Home Team Name to Half-time Away Goals for Match ID 1085. Use slicing here:"
      ],
      "metadata": {
        "id": "XlIhkSoRo9ov"
      }
    },
    {
      "cell_type": "code",
      "source": [
        " # Your code here"
      ],
      "metadata": {
        "id": "NXYTg0yIpBqM"
      },
      "execution_count": null,
      "outputs": []
    },
    {
      "cell_type": "markdown",
      "source": [
        "16. Reset the index back to integer index and move the `MatchID` back to a column in the DataFrame."
      ],
      "metadata": {
        "id": "9jJYAWGdpDH2"
      }
    },
    {
      "cell_type": "code",
      "source": [
        " # Your code here"
      ],
      "metadata": {
        "id": "2TPdCRp8pHfz"
      },
      "execution_count": null,
      "outputs": []
    },
    {
      "cell_type": "markdown",
      "source": [
        "17. For your analysis, you realized that you don't need information on Referee Assistants and Win Conditions. Remove these columns and modify the original dataframe in-place. Print the column list to verify that these changes have taken place."
      ],
      "metadata": {
        "id": "Jfs6dGKppKfu"
      }
    },
    {
      "cell_type": "code",
      "source": [
        " # Your code here"
      ],
      "metadata": {
        "id": "r2QvnFDEpQug"
      },
      "execution_count": null,
      "outputs": []
    },
    {
      "cell_type": "markdown",
      "source": [
        "18. Check the data type of the DateTime column using the appropriate Series method."
      ],
      "metadata": {
        "id": "bnlD2MkOpXmB"
      }
    },
    {
      "cell_type": "code",
      "source": [
        " # Your code here"
      ],
      "metadata": {
        "id": "Q1KxCA1fpa8z"
      },
      "execution_count": null,
      "outputs": []
    },
    {
      "cell_type": "markdown",
      "source": [
        "19. The dtype 'O' is the object data type. Here it is indicating that we have a column of strings. Now, convert this column to a datetime data type and make sure the changes are administered to the original dataframe df:\n",
        "- the string formatting for datetimes in this column are not all exactly the same (i.e. they are mixed)\n",
        "use the 'mixed' option for the format keyword argument in the pandas conversion function.\n"
      ],
      "metadata": {
        "id": "y0xiI_89pbWP"
      }
    },
    {
      "cell_type": "code",
      "source": [
        " # Your code here"
      ],
      "metadata": {
        "id": "N3domBWDpk-8"
      },
      "execution_count": null,
      "outputs": []
    },
    {
      "cell_type": "markdown",
      "source": [
        "20. In World Cup history, how many matches had 5 goals or more in total? First, create a new column \"Total Goals\"."
      ],
      "metadata": {
        "id": "NVIdANfrqIXM"
      }
    },
    {
      "cell_type": "code",
      "source": [
        " # Your code here"
      ],
      "metadata": {
        "id": "p-I1VkwiqJ2S"
      },
      "execution_count": null,
      "outputs": []
    },
    {
      "cell_type": "markdown",
      "source": [
        "21. Filter the dataset based on the \"Total Goals\" column and save it to a new dataframe `high_score_df`. Then get the number of matches satisfying the above condition."
      ],
      "metadata": {
        "id": "9o_PhSmKqNmM"
      }
    },
    {
      "cell_type": "code",
      "source": [
        "# Your code here"
      ],
      "metadata": {
        "id": "Y75AH8BqqQ_z"
      },
      "execution_count": null,
      "outputs": []
    },
    {
      "cell_type": "markdown",
      "source": [
        "22. In the dataframe df, create a new column \"High_Total_Score\" that has value 0 if the total number of goals in a match was less than 5 and 1 if the there were 5 or more goals scored in total."
      ],
      "metadata": {
        "id": "o8Gve_kKqTG9"
      }
    },
    {
      "cell_type": "code",
      "source": [
        "# Your code here"
      ],
      "metadata": {
        "id": "irKbOPXDqVPX"
      },
      "execution_count": null,
      "outputs": []
    },
    {
      "cell_type": "markdown",
      "source": [
        "23. Now create a new column \"Half-time Goals\" in df that includes both home and away values."
      ],
      "metadata": {
        "id": "N_oc5jD_qXMj"
      }
    },
    {
      "cell_type": "code",
      "source": [
        "# Your code here"
      ],
      "metadata": {
        "id": "IUMaSmBYqaA_"
      },
      "execution_count": null,
      "outputs": []
    },
    {
      "cell_type": "markdown",
      "source": [
        "24. Select all records that contain matches where North-Korea (Korea DPR) and South-Korea (Korea Republic) were involved."
      ],
      "metadata": {
        "id": "vEOmxjGpqbg6"
      }
    },
    {
      "cell_type": "code",
      "source": [
        "# Your code here"
      ],
      "metadata": {
        "id": "2sBQlyPHqea4"
      },
      "execution_count": null,
      "outputs": []
    },
    {
      "cell_type": "markdown",
      "source": [
        "25. Calculate the average number of goals South Korea (Korea Republic) scored when it was the Home Team. Save this to a variable mean_home_SK."
      ],
      "metadata": {
        "id": "4GUjfVwpqfwC"
      }
    },
    {
      "cell_type": "code",
      "source": [
        "# Your code here"
      ],
      "metadata": {
        "id": "XBe2JixuqihM"
      },
      "execution_count": null,
      "outputs": []
    },
    {
      "cell_type": "markdown",
      "source": [
        "26. Also estimate the average spread on this by calculating the standard deviation. Save the standard deviation to a variable std_home_SK."
      ],
      "metadata": {
        "id": "hy4S3o7cqjq1"
      }
    },
    {
      "cell_type": "code",
      "source": [
        "# Your code here"
      ],
      "metadata": {
        "id": "abqT16K3qxwW"
      },
      "execution_count": null,
      "outputs": []
    },
    {
      "cell_type": "markdown",
      "source": [
        "27. What is the maximum number of goals that North Korea has scored when it has been away?"
      ],
      "metadata": {
        "id": "jGXIUryCqmGe"
      }
    },
    {
      "cell_type": "code",
      "source": [
        "# Your code here"
      ],
      "metadata": {
        "id": "J9YSDMxcqy-6"
      },
      "execution_count": null,
      "outputs": []
    },
    {
      "cell_type": "markdown",
      "source": [
        "28. Get the average attendance, home team goals, away team goals, and total goals scored over all home games for South Korea:"
      ],
      "metadata": {
        "id": "RESsOWpYqmsq"
      }
    },
    {
      "cell_type": "code",
      "source": [
        "# Your code here"
      ],
      "metadata": {
        "id": "OUlopa1Iqzi8"
      },
      "execution_count": null,
      "outputs": []
    },
    {
      "cell_type": "markdown",
      "source": [
        "29. Does South Korea's scoring indicate that it benefits strongly from home advantage?"
      ],
      "metadata": {
        "id": "ezfrZ_HcqnQK"
      }
    },
    {
      "cell_type": "markdown",
      "source": [
        "Your answer here."
      ],
      "metadata": {
        "id": "8acgKQpArHM8"
      }
    },
    {
      "cell_type": "markdown",
      "source": [
        "30. Get a list of the unique teams that South Korea has played when it has been on the road."
      ],
      "metadata": {
        "id": "JOft-G5eqn-l"
      }
    },
    {
      "cell_type": "code",
      "source": [
        "# Your code here"
      ],
      "metadata": {
        "id": "TlfxqL5xq1AN"
      },
      "execution_count": null,
      "outputs": []
    },
    {
      "cell_type": "markdown",
      "source": [
        "31. Create a Series with the teams that South Korea has played against and the number of matches against each team in the dataset -- when South Korea has been away. Save this in a variable 'away_match_teamcount'."
      ],
      "metadata": {
        "id": "mAgzGj01qonE"
      }
    },
    {
      "cell_type": "code",
      "source": [
        "# Your code here"
      ],
      "metadata": {
        "id": "c0__Y0Vsq1jm"
      },
      "execution_count": null,
      "outputs": []
    }
  ]
}
{
  "cells": [
    {
      "cell_type": "markdown",
      "metadata": {
        "id": "74ymUZpeKT4B"
      },
      "source": [
        "# Practice for Data Cleaning with Pandas"
      ]
    },
    {
      "cell_type": "markdown",
      "metadata": {
        "id": "0xEZ1bisKT4C"
      },
      "source": [
        "## Overview:"
      ]
    },
    {
      "cell_type": "markdown",
      "metadata": {
        "id": "8cRBdoVEKT4D"
      },
      "source": [
        "#### Outcomes at the Austin Animal Center\n",
        "\n",
        "Austin Animal Center is the municipal shelter for Austin, TX. You are a consulting data scientist helping the shelter understand the factors contributing to various final outcomes of shelitered animals (adoption, euthanasia, etc.). They want a tool that will use this information to automatically flag animals that are at risk of ending up being euthanised. You have been provided with data from the following source:\n",
        "\n",
        "Data source: https://data.austintexas.gov/Health-and-Community-Services/Austin-Animal-Center-Outcomes/9t4d-g238\n",
        "\n",
        "\n",
        "Before conducting EDA and model building, you will need to clean your data. This will require you to:\n",
        "\n",
        "\n",
        "- Handle missing data, and recognize when different strategies for handling missing data would be appropriate\n",
        "- Deal with duplicate data\n",
        "- Use string vectorized methods to transform object-type columns\n",
        "- Use DataFrame vectorized methods to apply custom transformations to data"
      ]
    },
    {
      "cell_type": "code",
      "execution_count": null,
      "metadata": {
        "id": "7SD8qB73KT4D"
      },
      "outputs": [],
      "source": [
        "# Imports\n",
        "\n",
        "import pandas as pd\n",
        "import numpy as np\n",
        "\n",
        "import matplotlib.pyplot as plt\n",
        "import seaborn as sns"
      ]
    },
    {
      "cell_type": "markdown",
      "metadata": {
        "id": "JeoUqPf0KT4E"
      },
      "source": [
        "1. Load the animal center outcomes data as `df`."
      ]
    },
    {
      "cell_type": "code",
      "execution_count": null,
      "metadata": {
        "id": "r00FZXmmKT4E"
      },
      "outputs": [],
      "source": [
        "# your code here\n"
      ]
    },
    {
      "cell_type": "markdown",
      "metadata": {
        "id": "eB1udGQHKT4E"
      },
      "source": [
        "2. Inspect the head."
      ]
    },
    {
      "cell_type": "code",
      "execution_count": null,
      "metadata": {
        "id": "qp82Mcr8KT4E"
      },
      "outputs": [],
      "source": [
        "# your code here"
      ]
    },
    {
      "cell_type": "markdown",
      "metadata": {
        "id": "FHzgspzcKT4E"
      },
      "source": [
        "3. Get information on columns: null count and data types in DataFrame"
      ]
    },
    {
      "cell_type": "code",
      "execution_count": null,
      "metadata": {
        "id": "UNzO4PERKT4E"
      },
      "outputs": [],
      "source": [
        "# Check it out\n"
      ]
    },
    {
      "cell_type": "markdown",
      "metadata": {
        "id": "8XO_NKV8KT4F"
      },
      "source": [
        "4. `DateTime` and `Date of Birth` are dtype `object`. Convert them to an appropriate data type."
      ]
    },
    {
      "cell_type": "code",
      "execution_count": null,
      "metadata": {
        "id": "CU8sehbyKT4F"
      },
      "outputs": [],
      "source": [
        "# your code here\n"
      ]
    },
    {
      "cell_type": "markdown",
      "metadata": {
        "id": "iXf14wcOKT4F"
      },
      "source": [
        "5. The `Outcome Subtype` has a lot of nulls (more than half). It's not reasonable to impute these many missing values with a simple imputation strategy. Drop this feature."
      ]
    },
    {
      "cell_type": "code",
      "execution_count": null,
      "metadata": {
        "id": "uWtAzhQpKT4F"
      },
      "outputs": [],
      "source": [
        "# your code here\n",
        "\n",
        "\n",
        "\n",
        "# outcome subtype should no longer be in the list of columns\n",
        "print(df.columns)"
      ]
    },
    {
      "cell_type": "markdown",
      "metadata": {
        "id": "2F6KmAMkKT4F"
      },
      "source": [
        "6. Return a dataframe with all duplicated rows in the dataset."
      ]
    },
    {
      "cell_type": "code",
      "execution_count": null,
      "metadata": {
        "id": "MtCB_vnJKT4F"
      },
      "outputs": [],
      "source": [
        "# your code here\n"
      ]
    },
    {
      "cell_type": "markdown",
      "metadata": {
        "id": "Z9xDoakFKT4F"
      },
      "source": [
        "7. Remove all duplicates from the dataframe."
      ]
    },
    {
      "cell_type": "code",
      "execution_count": null,
      "metadata": {
        "id": "xBvHFzD4KT4F"
      },
      "outputs": [],
      "source": [
        "# your code here\n"
      ]
    },
    {
      "cell_type": "markdown",
      "metadata": {
        "id": "r5-F57iAKT4F"
      },
      "source": [
        "Age has a few nulls. Notice that the dtype for the column is object and the entries are strings:"
      ]
    },
    {
      "cell_type": "code",
      "execution_count": null,
      "metadata": {
        "id": "TnoktOSwKT4F"
      },
      "outputs": [],
      "source": [
        "# run this cell without changes\n",
        "print(df['Age upon Outcome'].isna().sum()) # there are 5 NaNs\n",
        "print(df['Age upon Outcome'].dtype)\n",
        "print(df['Age upon Outcome'].head())"
      ]
    },
    {
      "cell_type": "markdown",
      "metadata": {
        "id": "30HXAnepKT4F"
      },
      "source": [
        "The ages are strings with the number and a particular unit of time (days, months, or years). We need to clean this up."
      ]
    },
    {
      "cell_type": "markdown",
      "metadata": {
        "id": "V7jmosByKT4F"
      },
      "source": [
        "8. Split the number and unit and put these into two new columns named `Age Number` and `Age Unit` respectively."
      ]
    },
    {
      "cell_type": "code",
      "execution_count": null,
      "metadata": {
        "id": "DSyD3HIXKT4F"
      },
      "outputs": [],
      "source": [
        "# your code here\n",
        "\n",
        "\n",
        "print(df.columns)"
      ]
    },
    {
      "cell_type": "markdown",
      "metadata": {
        "id": "UxpM5LM_KT4F"
      },
      "source": [
        "9. Let's convert our Ages to be in units of days. First convert the `Age Unit` column to its corresponding number in days. We have provide the dictionary for unit conversion:"
      ]
    },
    {
      "cell_type": "code",
      "execution_count": null,
      "metadata": {
        "id": "56hTxqXZKT4G"
      },
      "outputs": [],
      "source": [
        "# Providing this dictionary to capture age values in # days (not perfect)\n",
        "age_vals = {\n",
        "    'years': 365,\n",
        "    'year': 365,\n",
        "    'months': 30,\n",
        "    'month': 30,\n",
        "    'weeks': 7,\n",
        "    'week': 7,\n",
        "    'days': 1,\n",
        "    'day': 1\n",
        "}\n",
        "\n",
        "# your code here\n"
      ]
    },
    {
      "cell_type": "markdown",
      "metadata": {
        "id": "H6r-fDSkKT4G"
      },
      "source": [
        "10. Convert the `Age Number` column to 'Int16' datatype. Then express the `Age Upon Outcome` in days using the `Age Number` and converted `Age Unit` columns."
      ]
    },
    {
      "cell_type": "code",
      "execution_count": null,
      "metadata": {
        "id": "3Z4L3S9UKT4G",
        "outputId": "5e0b2299-7790-4a35-92cd-4ef0cf72345b"
      },
      "outputs": [
        {
          "name": "stdout",
          "output_type": "stream",
          "text": [
            "0    730.0\n",
            "1    365.0\n",
            "2    365.0\n",
            "3    120.0\n",
            "4      6.0\n",
            "Name: Age upon Outcome, dtype: Float64\n"
          ]
        }
      ],
      "source": [
        "# your code here\n",
        "\n"
      ]
    },
    {
      "cell_type": "markdown",
      "metadata": {
        "id": "0oYPOCGGKT4G"
      },
      "source": [
        "11. Plot a histogram of `Age upon Outcome` along with median of the column."
      ]
    },
    {
      "cell_type": "code",
      "execution_count": null,
      "metadata": {
        "id": "JTyadXy6KT4G"
      },
      "outputs": [],
      "source": [
        "# your code here\n",
        "\n"
      ]
    },
    {
      "cell_type": "markdown",
      "metadata": {
        "id": "1xodEUIkKT4G"
      },
      "source": [
        "12. The median looks to be a measure of central tendency. Impute `Age upon Outcome' with the median."
      ]
    },
    {
      "cell_type": "code",
      "execution_count": null,
      "metadata": {
        "id": "PSGqA8coKT4G"
      },
      "outputs": [],
      "source": [
        "# your code here\n",
        "\n"
      ]
    },
    {
      "cell_type": "markdown",
      "metadata": {
        "id": "v9nLnnyJKT4G"
      },
      "source": [
        "13. The string cleaning and statistical imputation did work OK but in this case there was a much better option. We actually can compute the `Age upon Outcome` from two other columns in the dataset: `DateTime` and `Date of Birth`. Neither of these columns have nulls. Take the difference of the two columns, convert to days (use the vectorized dt.days attribute), and assign the resulting series to `Age upon Outcome`."
      ]
    },
    {
      "cell_type": "code",
      "execution_count": null,
      "metadata": {
        "id": "JN2PxwgFKT4G"
      },
      "outputs": [],
      "source": [
        "# your code here\n",
        "\n",
        "\n",
        "\n",
        "print(\"There are \" + str(df['Age upon Outcome'].isna().sum()) + \" missing values.\")\n",
        "print(df['Age upon Outcome'].head())"
      ]
    },
    {
      "cell_type": "markdown",
      "metadata": {
        "id": "NJhzdpNnKT4G"
      },
      "source": [
        "There was no guess work that was required to impute the values in the `Age upon Outcome` value."
      ]
    },
    {
      "cell_type": "markdown",
      "metadata": {
        "id": "gN0ksaMgKT4G"
      },
      "source": [
        "14. Use `.map()` to turn the Sex upon Outcome column into a category with three values: Fixed, Intact, or Unknown. We have provided you a function `fixed_mapper` that transforms the distinct categories to our desired three values (Fixed, Intact, Unknown). This function will turn any NaNs to category Unknown -- explicitly making missing values its own category. Create a new column `Grouped Sex upon Outcome` that results from transforming `Sex upon Outcome` with `fixed_mapper`:"
      ]
    },
    {
      "cell_type": "code",
      "execution_count": null,
      "metadata": {
        "id": "tiLtvd6RKT4H",
        "outputId": "2bcc3268-e3de-4e5a-ab37-6b37ecef734e"
      },
      "outputs": [
        {
          "name": "stdout",
          "output_type": "stream",
          "text": [
            "['Neutered Male' 'Unknown' 'Intact Male' 'Spayed Female' 'Intact Female'\n",
            " nan]\n"
          ]
        }
      ],
      "source": [
        "# run cell without changes\n",
        "\n",
        "# print Categories in column\n",
        "print(df['Sex upon Outcome'].unique())\n",
        "\n",
        "# Provided function\n",
        "def fixed_mapper(status):\n",
        "    '''\n",
        "    Takes in the current status of animals and outputs whether they have been fixed\n",
        "    '''\n",
        "    if status in ['Neutered Male', 'Spayed Female']:\n",
        "        return 'Fixed'\n",
        "    elif status in ['Intact Male', 'Intact Female']:\n",
        "        return 'Intact'\n",
        "    else:\n",
        "        return 'Unknown'"
      ]
    },
    {
      "cell_type": "code",
      "execution_count": null,
      "metadata": {
        "id": "vVdfzueeKT4H"
      },
      "outputs": [],
      "source": [
        "# Your code here\n"
      ]
    },
    {
      "cell_type": "markdown",
      "metadata": {
        "id": "EQWJV2R7KT4H"
      },
      "source": [
        "15. Create a bar graph to display the counts in each category for `Grouped Sex upon Outcome`."
      ]
    },
    {
      "cell_type": "code",
      "execution_count": null,
      "metadata": {
        "id": "7SZm4Uu6KT4H"
      },
      "outputs": [],
      "source": [
        "# your code here\n"
      ]
    },
    {
      "cell_type": "markdown",
      "metadata": {
        "id": "knqFt9eWKT4H"
      },
      "source": [
        "16. `Outcome Type` is the target we are trying to predict. Count the number of nulls here:"
      ]
    },
    {
      "cell_type": "code",
      "execution_count": null,
      "metadata": {
        "id": "ZZTQgmh3KT4H"
      },
      "outputs": [],
      "source": [
        "# Your code here\n"
      ]
    },
    {
      "cell_type": "markdown",
      "metadata": {
        "id": "I7JIJlcTKT4H"
      },
      "source": [
        "17. Drop all rows containing nulls in the `Outcome Type` column."
      ]
    },
    {
      "cell_type": "code",
      "execution_count": null,
      "metadata": {
        "id": "fGsxduzGKT4H"
      },
      "outputs": [],
      "source": [
        "# Your code here\n"
      ]
    },
    {
      "cell_type": "markdown",
      "metadata": {
        "id": "wctUNQm5KT4I"
      },
      "source": [
        "Printing nulls in the dataset now:"
      ]
    },
    {
      "cell_type": "code",
      "execution_count": null,
      "metadata": {
        "id": "hGleshC4KT4I"
      },
      "outputs": [],
      "source": [
        "# Sanity Check. Run cell without changes.\n",
        "df.isna().sum()"
      ]
    },
    {
      "cell_type": "markdown",
      "metadata": {
        "id": "Ce4kcKfzKT4I"
      },
      "source": [
        "18. There are a lot of nulls in the `Name` column. While the exact name of an animal might not matter too much, maybe whether the animal has a name might indicate whether it was owned before. This might conceivably impact outcome for adoption.\n",
        "\n",
        "Thus, build a binary categorical variable that indicates whether a name is missing -- i.e. an indicator for whether a value is null or not. This should be a new column `Name Missing`."
      ]
    },
    {
      "cell_type": "code",
      "execution_count": null,
      "metadata": {
        "id": "UN3VrlQGKT4I"
      },
      "outputs": [],
      "source": [
        "# Your code here\n"
      ]
    },
    {
      "cell_type": "markdown",
      "metadata": {
        "id": "hIAi5UKuKT4I"
      },
      "source": [
        "19. Create a new dataframe `clean_df` where all columns with NaNs have been dropped:"
      ]
    },
    {
      "cell_type": "code",
      "execution_count": null,
      "metadata": {
        "id": "R5nwSHhIKT4I"
      },
      "outputs": [],
      "source": [
        "# your code here\n"
      ]
    },
    {
      "cell_type": "markdown",
      "metadata": {
        "id": "Jlh17_psKT4I"
      },
      "source": [
        "20. Print info on the cleaned dataframe and save the cleaned dataframe to a file `cleaned_animal_data.csv`."
      ]
    },
    {
      "cell_type": "code",
      "execution_count": null,
      "metadata": {
        "id": "spJbeDrvKT4I"
      },
      "outputs": [],
      "source": [
        "# your code here\n"
      ]
    }
  ],
  "metadata": {
    "kernelspec": {
      "display_name": "learn-env",
      "language": "python",
      "name": "python3"
    },
    "language_info": {
      "name": "python",
      "version": "3.12.3"
    },
    "colab": {
      "provenance": []
    }
  },
  "nbformat": 4,
  "nbformat_minor": 0
}